{
 "cells": [
  {
   "cell_type": "code",
   "execution_count": 23,
   "id": "79312028",
   "metadata": {},
   "outputs": [
    {
     "name": "stdout",
     "output_type": "stream",
     "text": [
      "['Name: Adam Soubh', 'Age: 54']\n",
      "Name accessed: Adam Soubh\n"
     ]
    }
   ],
   "source": [
    "\"\"\"\n",
    "To utilize this class:\n",
    "    - Initialize the class instance --> inst = MyClass(name, age)\n",
    "    - Call the class instance --> inst.attribute\n",
    "\"\"\"\n",
    "\n",
    "class MyClass:\n",
    "    def __init__(self, name, age):\n",
    "        self.name = name\n",
    "        self.age = age\n",
    "\n",
    "    def display_value(self):\n",
    "        print([\"Name: {}\".format(self.name),\n",
    "                \"Age: {}\".format(self.age)])\n",
    "\n",
    "# External function that operates on the instance of MyClass\n",
    "def external_function(class_inst):\n",
    "    # Accessing attribute 'value' of the object passed\n",
    "    print(\"Name accessed:\", class_inst.name)\n",
    "\n",
    "# Initialize an instance of the class\n",
    "class_instance = MyClass(\"Adam Soubh\", 54)\n",
    "\n",
    "# Call function from class instance\n",
    "class_instance.display_value()\n",
    "\n",
    "# Calling the external function and passing the object instance 'class_instance'\n",
    "external_function(class_instance)"
   ]
  },
  {
   "cell_type": "code",
   "execution_count": 1,
   "id": "e2c6053e-e909-4a3f-94d5-5204d5794e7f",
   "metadata": {},
   "outputs": [],
   "source": [
    "import tkinter as tk\n",
    "from tkinter.messagebox import showinfo\n",
    "\n",
    "# module used j 9ju]to correcly change button bg color\n",
    "import tkmacosx as MacTk"
   ]
  },
  {
   "cell_type": "code",
   "execution_count": 2,
   "id": "aa92d5cb",
   "metadata": {},
   "outputs": [
    {
     "name": "stdout",
     "output_type": "stream",
     "text": [
      "(2,)\n",
      "C\n",
      "(3,)\n",
      "C++\n",
      "(5,)\n",
      "Go\n",
      "(2,)\n",
      "C\n",
      "(4,)\n",
      "Python\n"
     ]
    }
   ],
   "source": [
    "def test_print():\n",
    "    print([e1.get(), e2.get()])\n",
    "\n",
    "# Main GUI Framework\n",
    "window = tk.Tk()\n",
    "window.title(\"TITLE\")\n",
    "window.geometry('350x350')\n",
    "window.config(bg='green')\n",
    "\n",
    "# Labels\n",
    "tk.Label(window, text='First Name', bg='green', fg='black').grid(row=0)\n",
    "tk.Label(window, text='Last Name', bg='green').grid(row=1)\n",
    "\n",
    "# Entry boxes\n",
    "e1 = tk.Entry(window, bg='yellow', fg='black')\n",
    "e2 = tk.Entry(window)\n",
    "e1.grid(row=0, column=1)\n",
    "e2.grid(row=1, column=1)\n",
    "\n",
    "# Buttons\n",
    "button1 = MacTk.Button(window,\n",
    "                        text='Test Button',\n",
    "                        bg='red',\n",
    "                        activebackground='blue',\n",
    "                        command=test_print)\n",
    "button1.place(x=100, y=170)\n",
    "\n",
    "###### LISTBOX\n",
    "# create a list box\n",
    "langs = ('Java', 'C#', 'C', 'C++', 'Python',\n",
    "         'Go', 'JavaScript', 'PHP', 'Swift')\n",
    "\n",
    "var = tk.Variable(value=langs)\n",
    "lstbx = tk.Listbox(window,\n",
    "                    listvariable=var,\n",
    "                    height=6,\n",
    "                    selectmode=tk.SINGLE)\n",
    "\n",
    "lstbx.place(x=100, y=100)\n",
    "\n",
    "def items_selected(event):\n",
    "    # get all selected indices\n",
    "    selected_indices = lstbx.curselection()\n",
    "    print(selected_indices)\n",
    "    # get selected items\n",
    "    selected_langs = \",\".join([lstbx.get(i) for i in selected_indices])\n",
    "    print(selected_langs)\n",
    "    msg = f'You selected: {selected_langs}'\n",
    "    showinfo(title='Information', message=msg)\n",
    "\n",
    "lstbx.bind('<<ListboxSelect>>', items_selected)\n",
    "\n",
    "window.mainloop()"
   ]
  },
  {
   "cell_type": "code",
   "execution_count": null,
   "id": "b7fe4a49",
   "metadata": {},
   "outputs": [],
   "source": []
  }
 ],
 "metadata": {
  "interpreter": {
   "hash": "aee8b7b246df8f9039afb4144a1f6fd8d2ca17a180786b69acc140d282b71a49"
  },
  "kernelspec": {
   "display_name": "Python 3.12.0 64-bit",
   "language": "python",
   "name": "python3"
  },
  "language_info": {
   "codemirror_mode": {
    "name": "ipython",
    "version": 3
   },
   "file_extension": ".py",
   "mimetype": "text/x-python",
   "name": "python",
   "nbconvert_exporter": "python",
   "pygments_lexer": "ipython3",
   "version": "3.12.0"
  }
 },
 "nbformat": 4,
 "nbformat_minor": 5
}
