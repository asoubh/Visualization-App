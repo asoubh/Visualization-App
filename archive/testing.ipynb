{
 "cells": [
  {
   "cell_type": "code",
   "execution_count": 1,
   "metadata": {},
   "outputs": [],
   "source": [
    "import requests\n",
    "import json\n",
    "import pandas as pd\n",
    "\n",
    "# import visulization tools\n",
    "import seaborn as sns\n",
    "import matplotlib.pyplot as plt\n",
    "from matplotlib.gridspec import GridSpec"
   ]
  },
  {
   "cell_type": "code",
   "execution_count": 2,
   "metadata": {},
   "outputs": [
    {
     "name": "stdout",
     "output_type": "stream",
     "text": [
      "dict_keys(['links', 'meta', 'data'])\n"
     ]
    }
   ],
   "source": [
    "### Ping API endpoint and load response into JSON\n",
    "\n",
    "# Replace 'your_api_endpoint' with the actual API endpoint you want to query\n",
    "api_endpoint = 'https://api.covidtracking.com/v2/us/daily.json'\n",
    "\n",
    "# Make a GET request to the API\n",
    "api_response = requests.get(api_endpoint)\n",
    "\n",
    "# Check if the request was successful (status code 200)\n",
    "if api_response.status_code == 200:\n",
    "\n",
    "    # Parse the JSON data in the api_response\n",
    "    json_data = api_response.json()\n",
    "\n",
    "    # show top level keys from json response\n",
    "    print(json_data.keys())\n",
    "\n",
    "# if request was not successful\n",
    "else:\n",
    "    # Print an error message if the request was not successful\n",
    "    print(f\"Error: {api_response.status_code}\")"
   ]
  },
  {
   "cell_type": "code",
   "execution_count": 5,
   "metadata": {},
   "outputs": [
    {
     "name": "stdout",
     "output_type": "stream",
     "text": [
      "entry: date\n",
      "entry: states\n",
      "entry: cases.total.value\n",
      "entry: cases.total.calculated.population_percent\n",
      "entry: cases.total.calculated.change_from_prior_day\n",
      "entry: cases.total.calculated.seven_day_change_percent\n",
      "entry: testing.total.value\n",
      "entry: testing.total.calculated.population_percent\n",
      "entry: testing.total.calculated.change_from_prior_day\n",
      "entry: testing.total.calculated.seven_day_change_percent\n",
      "entry: outcomes.hospitalized.currently.value\n",
      "entry: outcomes.hospitalized.currently.calculated.population_percent\n",
      "entry: outcomes.hospitalized.currently.calculated.change_from_prior_day\n",
      "entry: outcomes.hospitalized.currently.calculated.seven_day_change_percent\n",
      "entry: outcomes.hospitalized.currently.calculated.seven_day_average\n",
      "entry: outcomes.hospitalized.in_icu.currently.value\n",
      "entry: outcomes.hospitalized.in_icu.currently.calculated.population_percent\n",
      "entry: outcomes.hospitalized.in_icu.currently.calculated.change_from_prior_day\n",
      "entry: outcomes.hospitalized.in_icu.currently.calculated.seven_day_change_percent\n",
      "entry: outcomes.hospitalized.in_icu.currently.calculated.seven_day_average\n",
      "entry: outcomes.hospitalized.on_ventilator.currently.value\n",
      "entry: outcomes.hospitalized.on_ventilator.currently.calculated.population_percent\n",
      "entry: outcomes.hospitalized.on_ventilator.currently.calculated.change_from_prior_day\n",
      "entry: outcomes.hospitalized.on_ventilator.currently.calculated.seven_day_change_percent\n",
      "entry: outcomes.hospitalized.on_ventilator.currently.calculated.seven_day_average\n",
      "entry: outcomes.death.total.value\n",
      "entry: outcomes.death.total.calculated.population_percent\n",
      "entry: outcomes.death.total.calculated.change_from_prior_day\n",
      "entry: outcomes.death.total.calculated.seven_day_change_percent\n",
      "entry: outcomes.death.total.calculated.seven_day_average\n"
     ]
    },
    {
     "data": {
      "text/plain": [
       "30"
      ]
     },
     "execution_count": 5,
     "metadata": {},
     "output_type": "execute_result"
    }
   ],
   "source": [
    "for i in range(len(list(df.columns.values))):\n",
    "    print('entry: {}'.format((df.columns.values)[i]))\n",
    "    # if (df.columns.values)[i].startswith('outcomes'):\n",
    "    #     print('starts cases: {}'.format((df.columns.values)[i]))\n",
    "    # else:\n",
    "    #     print('NO')\n",
    "len(df.columns.values)"
   ]
  },
  {
   "cell_type": "code",
   "execution_count": 10,
   "metadata": {},
   "outputs": [
    {
     "data": {
      "image/png": "[encoded data removed]",
      "text/plain": [
       "<Figure size 1000x600 with 1 Axes>"
      ]
     },
     "metadata": {},
     "output_type": "display_data"
    }
   ],
   "source": [
    "# number of days from start of data collection (01/13/2020)\n",
    "num_days_window = 45\n",
    "\n",
    "# Use pd.json_normalize to convert the JSON to a DataFrame\n",
    "normalized_data_df = pd.json_normalize(json_data['data'])\n",
    "\n",
    "# Data cleaning and sorting\n",
    "    # sort by date\n",
    "    # replace NAN entries with 0's\n",
    "normalized_data_df.sort_values(by='date', ascending=True, inplace=True)\n",
    "normalized_data_df=normalized_data_df.fillna(0)\n",
    "\n",
    "# Rename the columns for clarity\n",
    "# normalized_data_df.columns = ['Col1', 'Col2', 'Col3']\n",
    "\n",
    "# Display the DataFrame column\n",
    "# print(normalized_data_df['cases.total.calculated.population_percent'])\n",
    "\n",
    "##############################################################################\n",
    "\n",
    "### Figure Layout\n",
    "# create 2x2 grid to align plots\n",
    "plt_grid = GridSpec(2,2)\n",
    "\n",
    "# create figure for plots to be put on\n",
    "fig = plt.figure(figsize=(10, 6))\n",
    "\n",
    "### Scatterplot Subplot\n",
    "# add plot to grid position 0,0 (top left)\n",
    "total_pop_pct = fig.add_subplot(plt_grid[0,0])\n",
    "\n",
    "# create scatter plot within subplot\n",
    "total_pop_pct.scatter(x = normalized_data_df['date'][0:(num_days_window-1)], \n",
    "                        y = normalized_data_df['testing.total.calculated.seven_day_change_percent'][0:(num_days_window-1)], \n",
    "                        c = 'blue',\n",
    "                        s=4)\n",
    "\n",
    "### Formatting Scatterplot Subplot\n",
    "# assign xtick lables\n",
    "total_pop_pct.set_xticks(normalized_data_df['date'][0:(num_days_window-1)])\n",
    "# format xtick labels\n",
    "total_pop_pct.set_xticklabels(labels=normalized_data_df['date'][0:(num_days_window-1)], rotation=90, fontsize=str(num_days_window/9))\n",
    "\n",
    "# change X and Y axis lables\n",
    "total_pop_pct.set_xlabel('Date')\n",
    "total_pop_pct.set_ylabel('Percentage Change over 7 days')\n",
    "\n",
    "# change plot title\n",
    "total_pop_pct.set_title('COVID-19 US')\n",
    "\n",
    "# add gridlines to the plot\n",
    "total_pop_pct.grid(visible=True, which='major', axis='both')\n",
    "\n",
    "### Show plot\n",
    "# assure fit of plot\n",
    "plt.tight_layout()\n",
    "plt.show()\n",
    "\n",
    "\n",
    "# save plot\n",
    "# save1 = plt.savefig('/Users/AdamSoubh/Documents/Code/covid_analysis/results/total_pop_pct_dataset1.png', dpi=1000)\n",
    "\n"
   ]
  },
  {
   "cell_type": "code",
   "execution_count": null,
   "metadata": {},
   "outputs": [],
   "source": []
  }
 ],
 "metadata": {
  "interpreter": {
   "hash": "aee8b7b246df8f9039afb4144a1f6fd8d2ca17a180786b69acc140d282b71a49"
  },
  "kernelspec": {
   "display_name": "Python 3.12.0 64-bit",
   "language": "python",
   "name": "python3"
  },
  "language_info": {
   "codemirror_mode": {
    "name": "ipython",
    "version": 3
   },
   "file_extension": ".py",
   "mimetype": "text/x-python",
   "name": "python",
   "nbconvert_exporter": "python",
   "pygments_lexer": "ipython3",
   "version": "3.12.0"
  },
  "orig_nbformat": 4
 },
 "nbformat": 4,
 "nbformat_minor": 2
}
